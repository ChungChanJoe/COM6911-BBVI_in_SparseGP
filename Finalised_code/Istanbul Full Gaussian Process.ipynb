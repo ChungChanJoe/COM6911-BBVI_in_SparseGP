{
 "cells": [
  {
   "cell_type": "code",
   "execution_count": 1,
   "metadata": {},
   "outputs": [
    {
     "name": "stderr",
     "output_type": "stream",
     "text": [
      "/Applications/anaconda3/lib/python3.6/site-packages/multipledispatch/dispatcher.py:24: AmbiguityWarning: \n",
      "Ambiguities exist in dispatched function _expectation\n",
      "\n",
      "The following signatures may result in ambiguous behavior:\n",
      "\t[Gaussian, Identity, NoneType, Kernel, InducingPoints], [Gaussian, Linear, NoneType, Sum, InducingPoints]\n",
      "\n",
      "\n",
      "Consider making the following additions:\n",
      "\n",
      "@dispatch(Gaussian, Identity, NoneType, Sum, InducingPoints)\n",
      "def _expectation(...)\n",
      "  warn(warning_text(dispatcher.name, ambiguities), AmbiguityWarning)\n"
     ]
    }
   ],
   "source": [
    "%matplotlib inline\n",
    "import csv, random\n",
    "from numpy import genfromtxt\n",
    "import sys\n",
    "import numpy as np\n",
    "import numpy.random as rnd\n",
    "import time\n",
    "import gpflow\n",
    "import tensorflow as tf\n",
    "import matplotlib\n",
    "import matplotlib.pyplot as plt\n",
    "plt.style.use('ggplot')\n",
    "import GPy\n",
    "from sklearn.model_selection import train_test_split"
   ]
  },
  {
   "cell_type": "code",
   "execution_count": 2,
   "metadata": {
    "collapsed": true
   },
   "outputs": [],
   "source": [
    "#Import dataset to the appropriate structure\n",
    "import pandas as pd\n",
    "data = pd.read_csv(\"istanbul_stock_exchange.csv\")\n",
    "df1 = data.iloc[2:] \n",
    "Original_dataset = df1.drop(df1.columns[0], axis=1)\n",
    "df3 = Original_dataset.drop(Original_dataset.columns[0:2], axis = 1)\n",
    "X = df3.values.astype(np.float)\n",
    "df5 = Original_dataset.drop(Original_dataset.columns[1:], axis = 1)\n",
    "y = df5.values.astype(np.float)"
   ]
  },
  {
   "cell_type": "code",
   "execution_count": 3,
   "metadata": {},
   "outputs": [],
   "source": [
    "#Normalise \n",
    "mean_y = y.mean()\n",
    "y_norm = y-mean_y"
   ]
  },
  {
   "cell_type": "code",
   "execution_count": 4,
   "metadata": {
    "collapsed": true
   },
   "outputs": [],
   "source": [
    "#Train test split\n",
    "X_train, X_test, y_train, y_test = train_test_split(X, y_norm, test_size=0.2, random_state=42)"
   ]
  },
  {
   "cell_type": "code",
   "execution_count": 5,
   "metadata": {
    "collapsed": true
   },
   "outputs": [],
   "source": [
    "#Model Fitting function\n",
    "def init_full():\n",
    "    kern = gpflow.kernels.RBF(X_train.shape[1],1)\n",
    "    from scipy.cluster.vq import kmeans\n",
    "    m_gp = gpflow.models.VGP(X_train, y_train, kern, gpflow.likelihoods.Gaussian())\n",
    "    return m_gp"
   ]
  },
  {
   "cell_type": "code",
   "execution_count": 14,
   "metadata": {},
   "outputs": [
    {
     "data": {
      "text/plain": [
       "7"
      ]
     },
     "execution_count": 14,
     "metadata": {},
     "output_type": "execute_result"
    }
   ],
   "source": [
    "X_train.shape[1]"
   ]
  },
  {
   "cell_type": "code",
   "execution_count": 6,
   "metadata": {},
   "outputs": [],
   "source": [
    "#Model Fit\n",
    "m = init_full()"
   ]
  },
  {
   "cell_type": "code",
   "execution_count": 7,
   "metadata": {
    "collapsed": true
   },
   "outputs": [],
   "source": [
    "#Logger to save for plotting\n",
    "class Logger(gpflow.actions.Action):\n",
    "    def __init__(self, model):\n",
    "        self.model = model\n",
    "        self.logf = []\n",
    "        \n",
    "    def run(self, ctx):\n",
    "        if (ctx.iteration % 10) == 0:\n",
    "            likelihood = - ctx.session.run(self.model.likelihood_tensor)\n",
    "            self.logf.append(likelihood)"
   ]
  },
  {
   "cell_type": "code",
   "execution_count": 8,
   "metadata": {},
   "outputs": [],
   "source": [
    "#Define and perform optimization algorithm\n",
    "def run_opt (model, iterations,var_list=None):\n",
    "    if var_list is None:\n",
    "        var_list = [(model.q_mu, model.q_sqrt)]\n",
    "    model.q_mu.set_trainable(False)\n",
    "    model.q_sqrt.set_trainable(False)\n",
    "    adam = gpflow.train.AdamOptimizer().make_optimize_action(model)\n",
    "    model.q_mu.set_trainable(True)\n",
    "    model.q_sqrt.set_trainable(True)\n",
    "    natgrad=gpflow.training.NatGradOptimizer(1).make_optimize_action(model,var_list = var_list)\n",
    "    logger = Logger(model)\n",
    "    actions = [adam,natgrad,logger]\n",
    "    loop = gpflow.actions.Loop(actions, stop=iterations)()\n",
    "    model.anchor(model.enquire_session())\n",
    "    return logger\n",
    "\n",
    "logger1 = run_opt(m, gpflow.test_util.notebook_niter(20000), var_list=[(m.q_mu, m.q_sqrt)])"
   ]
  },
  {
   "cell_type": "code",
   "execution_count": 9,
   "metadata": {},
   "outputs": [
    {
     "data": {
      "text/plain": [
       "Text(0,0.5,'ELBO')"
      ]
     },
     "execution_count": 9,
     "metadata": {},
     "output_type": "execute_result"
    },
    {
     "data": {
      "image/png": "[encoded data removed]",
      "text/plain": [
       "<Figure size 432x288 with 1 Axes>"
      ]
     },
     "metadata": {},
     "output_type": "display_data"
    }
   ],
   "source": [
    "#Plotting the learning process\n",
    "plt.plot(-np.array(logger1.logf))\n",
    "plt.xlabel('iteration')\n",
    "plt.ylabel('ELBO')"
   ]
  },
  {
   "cell_type": "code",
   "execution_count": 10,
   "metadata": {},
   "outputs": [
    {
     "data": {
      "text/html": [
       "<div>\n",
       "<style>\n",
       "    .dataframe thead tr:only-child th {\n",
       "        text-align: right;\n",
       "    }\n",
       "\n",
       "    .dataframe thead th {\n",
       "        text-align: left;\n",
       "    }\n",
       "\n",
       "    .dataframe tbody tr th {\n",
       "        vertical-align: top;\n",
       "    }\n",
       "</style>\n",
       "<table border=\"1\" class=\"dataframe\">\n",
       "  <thead>\n",
       "    <tr style=\"text-align: right;\">\n",
       "      <th></th>\n",
       "      <th>class</th>\n",
       "      <th>prior</th>\n",
       "      <th>transform</th>\n",
       "      <th>trainable</th>\n",
       "      <th>shape</th>\n",
       "      <th>fixed_shape</th>\n",
       "      <th>value</th>\n",
       "    </tr>\n",
       "  </thead>\n",
       "  <tbody>\n",
       "    <tr>\n",
       "      <th>VGP/kern/variance</th>\n",
       "      <td>Parameter</td>\n",
       "      <td>None</td>\n",
       "      <td>+ve</td>\n",
       "      <td>True</td>\n",
       "      <td>()</td>\n",
       "      <td>True</td>\n",
       "      <td>0.0043847641441770654</td>\n",
       "    </tr>\n",
       "    <tr>\n",
       "      <th>VGP/kern/lengthscales</th>\n",
       "      <td>Parameter</td>\n",
       "      <td>None</td>\n",
       "      <td>+ve</td>\n",
       "      <td>True</td>\n",
       "      <td>()</td>\n",
       "      <td>True</td>\n",
       "      <td>0.27627362042481657</td>\n",
       "    </tr>\n",
       "    <tr>\n",
       "      <th>VGP/likelihood/variance</th>\n",
       "      <td>Parameter</td>\n",
       "      <td>None</td>\n",
       "      <td>+ve</td>\n",
       "      <td>True</td>\n",
       "      <td>()</td>\n",
       "      <td>True</td>\n",
       "      <td>0.00013344487134323035</td>\n",
       "    </tr>\n",
       "    <tr>\n",
       "      <th>VGP/q_mu</th>\n",
       "      <td>Parameter</td>\n",
       "      <td>None</td>\n",
       "      <td>(none)</td>\n",
       "      <td>True</td>\n",
       "      <td>(428, 1)</td>\n",
       "      <td>True</td>\n",
       "      <td>[[0.0121455012591], [0.112689145772], [0.82418...</td>\n",
       "    </tr>\n",
       "    <tr>\n",
       "      <th>VGP/q_sqrt</th>\n",
       "      <td>Parameter</td>\n",
       "      <td>None</td>\n",
       "      <td>LoTri-&gt;vec</td>\n",
       "      <td>True</td>\n",
       "      <td>(1, 428, 428)</td>\n",
       "      <td>True</td>\n",
       "      <td>[[[0.0270060201141, 0.0, 0.0, 0.0, 0.0, 0.0, 0...</td>\n",
       "    </tr>\n",
       "  </tbody>\n",
       "</table>\n",
       "</div>"
      ],
      "text/plain": [
       "                             class prior   transform  trainable  \\\n",
       "VGP/kern/variance        Parameter  None         +ve       True   \n",
       "VGP/kern/lengthscales    Parameter  None         +ve       True   \n",
       "VGP/likelihood/variance  Parameter  None         +ve       True   \n",
       "VGP/q_mu                 Parameter  None      (none)       True   \n",
       "VGP/q_sqrt               Parameter  None  LoTri->vec       True   \n",
       "\n",
       "                                 shape  fixed_shape  \\\n",
       "VGP/kern/variance                   ()         True   \n",
       "VGP/kern/lengthscales               ()         True   \n",
       "VGP/likelihood/variance             ()         True   \n",
       "VGP/q_mu                      (428, 1)         True   \n",
       "VGP/q_sqrt               (1, 428, 428)         True   \n",
       "\n",
       "                                                                     value  \n",
       "VGP/kern/variance                                    0.0043847641441770654  \n",
       "VGP/kern/lengthscales                                  0.27627362042481657  \n",
       "VGP/likelihood/variance                             0.00013344487134323035  \n",
       "VGP/q_mu                 [[0.0121455012591], [0.112689145772], [0.82418...  \n",
       "VGP/q_sqrt               [[[0.0270060201141, 0.0, 0.0, 0.0, 0.0, 0.0, 0...  "
      ]
     },
     "execution_count": 10,
     "metadata": {},
     "output_type": "execute_result"
    }
   ],
   "source": [
    "#Show parameters after optimization\n",
    "logger1.model.as_pandas_table()"
   ]
  },
  {
   "cell_type": "code",
   "execution_count": 20,
   "metadata": {},
   "outputs": [
    {
     "data": {
      "text/plain": [
       "0.19525346882147659"
      ]
     },
     "execution_count": 20,
     "metadata": {},
     "output_type": "execute_result"
    }
   ],
   "source": [
    "#RMSE calculation\n",
    "from sklearn.metrics import mean_squared_error\n",
    "rmse = np.sqrt(mean_squared_error(y_test,m.predict_y(X_test)[0]))\n",
    "rmse/(m.predict_y(X_test)[0].max()-m.predict_y(X_test)[0].min())"
   ]
  },
  {
   "cell_type": "code",
   "execution_count": 12,
   "metadata": {},
   "outputs": [
    {
     "data": {
      "text/plain": [
       "1285.2703448125765"
      ]
     },
     "execution_count": 12,
     "metadata": {},
     "output_type": "execute_result"
    }
   ],
   "source": [
    "m.compute_log_likelihood()"
   ]
  },
  {
   "cell_type": "code",
   "execution_count": 23,
   "metadata": {},
   "outputs": [
    {
     "data": {
      "text/plain": [
       "-3.527308816628338"
      ]
     },
     "execution_count": 23,
     "metadata": {},
     "output_type": "execute_result"
    }
   ],
   "source": [
    "#mean Negative log probability density\n",
    "-m.predict_density(X_test,m.predict_y(X_test)[0]).mean()"
   ]
  },
  {
   "cell_type": "code",
   "execution_count": 26,
   "metadata": {},
   "outputs": [
    {
     "data": {
      "text/plain": [
       "0.019671461237547417"
      ]
     },
     "execution_count": 26,
     "metadata": {},
     "output_type": "execute_result"
    }
   ],
   "source": [
    "#standard deviation of nlpd\n",
    "np.std(m.predict_density(X_test,m.predict_y(X_test)[0]))"
   ]
  },
  {
   "cell_type": "code",
   "execution_count": null,
   "metadata": {
    "collapsed": true
   },
   "outputs": [],
   "source": [
    "#However, that is taken an hour to optimize cuz of the cost of computation"
   ]
  }
 ],
 "metadata": {
  "kernelspec": {
   "display_name": "Python 3",
   "language": "python",
   "name": "python3"
  },
  "language_info": {
   "codemirror_mode": {
    "name": "ipython",
    "version": 3
   },
   "file_extension": ".py",
   "mimetype": "text/x-python",
   "name": "python",
   "nbconvert_exporter": "python",
   "pygments_lexer": "ipython3",
   "version": "3.6.3"
  }
 },
 "nbformat": 4,
 "nbformat_minor": 2
}
